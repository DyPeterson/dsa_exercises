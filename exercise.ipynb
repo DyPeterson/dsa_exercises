{
 "cells": [
  {
   "cell_type": "code",
   "execution_count": 8,
   "metadata": {},
   "outputs": [
    {
     "name": "stdout",
     "output_type": "stream",
     "text": [
      "[1, 4, 9, 16, 64, 256, 1024, 4096, 16384, 65536, 262144, 1048576, 4194304, 16777216, 67108864]\n"
     ]
    }
   ],
   "source": [
    "nums = [1, 2, 3, 4, 8, 16, 32, 64, 128, 256, 512, 1024, 2048, 4096, 8192]\n",
    "\n",
    "def sqr(n):\n",
    "    return pow(n,2)\n",
    "\n",
    "print(list(map(sqr,nums)))"
   ]
  },
  {
   "cell_type": "code",
   "execution_count": 8,
   "metadata": {},
   "outputs": [
    {
     "name": "stdout",
     "output_type": "stream",
     "text": [
      "6\n"
     ]
    }
   ],
   "source": [
    "print((lambda x,y,z: x + y + z)(1,2,3))"
   ]
  },
  {
   "cell_type": "code",
   "execution_count": 4,
   "metadata": {},
   "outputs": [
    {
     "name": "stdout",
     "output_type": "stream",
     "text": [
      "['ManCity', 'Liverpool', 'Real_Madrid']\n"
     ]
    }
   ],
   "source": [
    "# Take a list of names and use ‘filter()’ to return a list containing only the names in the original list that have a length greater than 5.\n",
    "\n",
    "# Example input: [\"ManCity\", \"Liverpool\",\"Real_Madrid\", \"Porto\", \"Ajax\"]\n",
    "\n",
    "# Example output: [\"ManCity\", \"Liverpool\",\n",
    "#        \"Real_Madrid\"]\n",
    "\n",
    "x = [\"ManCity\", \"Liverpool\",\"Real_Madrid\", \"Porto\", \"Ajax\"]\n",
    "def len_grth_five(x:list):\n",
    "    if len(x) > 5:\n",
    "        return True\n",
    "    else:\n",
    "        return False\n",
    "\n",
    "teams_grth_five = filter(len_grth_five, x)\n",
    "\n",
    "print(list(teams_grth_five))\n",
    "\n",
    "\n"
   ]
  }
 ],
 "metadata": {
  "kernelspec": {
   "display_name": "Python 3.7.13 64-bit",
   "language": "python",
   "name": "python3"
  },
  "language_info": {
   "codemirror_mode": {
    "name": "ipython",
    "version": 3
   },
   "file_extension": ".py",
   "mimetype": "text/x-python",
   "name": "python",
   "nbconvert_exporter": "python",
   "pygments_lexer": "ipython3",
   "version": "3.7.13"
  },
  "orig_nbformat": 4,
  "vscode": {
   "interpreter": {
    "hash": "e5030792b3492f6b12d94f1f48beca3d8e59ec05fd59d0aaaa48e684281ed297"
   }
  }
 },
 "nbformat": 4,
 "nbformat_minor": 2
}
