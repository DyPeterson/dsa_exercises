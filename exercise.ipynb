{
 "cells": [
  {
   "cell_type": "code",
   "execution_count": 8,
   "metadata": {},
   "outputs": [
    {
     "name": "stdout",
     "output_type": "stream",
     "text": [
      "[1, 4, 9, 16, 64, 256, 1024, 4096, 16384, 65536, 262144, 1048576, 4194304, 16777216, 67108864]\n"
     ]
    }
   ],
   "source": [
    "nums = [1, 2, 3, 4, 8, 16, 32, 64, 128, 256, 512, 1024, 2048, 4096, 8192]\n",
    "\n",
    "def sqr(n):\n",
    "    return pow(n,2)\n",
    "\n",
    "print(list(map(sqr,nums)))"
   ]
  },
  {
   "cell_type": "code",
   "execution_count": 8,
   "metadata": {},
   "outputs": [
    {
     "name": "stdout",
     "output_type": "stream",
     "text": [
      "6\n"
     ]
    }
   ],
   "source": [
    "print((lambda x,y,z: x + y + z)(1,2,3))"
   ]
  },
  {
   "cell_type": "code",
   "execution_count": 4,
   "metadata": {},
   "outputs": [
    {
     "name": "stdout",
     "output_type": "stream",
     "text": [
      "['ManCity', 'Liverpool', 'Real_Madrid']\n"
     ]
    }
   ],
   "source": [
    "# Take a list of names and use ‘filter()’ to return a list containing only the names in the original list that have a length greater than 5.\n",
    "\n",
    "# Example input: [\"ManCity\", \"Liverpool\",\"Real_Madrid\", \"Porto\", \"Ajax\"]\n",
    "\n",
    "# Example output: [\"ManCity\", \"Liverpool\",\n",
    "#        \"Real_Madrid\"]\n",
    "\n",
    "x = [\"ManCity\", \"Liverpool\",\"Real_Madrid\", \"Porto\", \"Ajax\"]\n",
    "def len_grth_five(x:list):\n",
    "    if len(x) > 5:\n",
    "        return True\n",
    "    else:\n",
    "        return False\n",
    "\n",
    "teams_grth_five = filter(len_grth_five, x)\n",
    "\n",
    "print(list(teams_grth_five))\n",
    "\n",
    "\n"
   ]
  },
  {
   "cell_type": "code",
   "execution_count": 18,
   "metadata": {},
   "outputs": [
    {
     "name": "stdout",
     "output_type": "stream",
     "text": [
      "[65496887, 85860911, 31278571, 11390851, 12418579]\n"
     ]
    }
   ],
   "source": [
    "# Unique Prime Randos\n",
    "\n",
    "# Generate a list of random, unique, and prime integers. Guidelines:\n",
    "\n",
    "# Each value should be between 0 and 100\n",
    "# Each value can only appear once\n",
    "# The list should have 5 items total\n",
    "\n",
    "\n",
    "# Example output: [17,  53, 67, 11, 41]\n",
    "\n",
    "\n",
    "# Optimization Hint: a number (N) is prime if its not divisible by any other number in between 2 and N/2\n",
    "\n",
    "\n",
    "# More Optimized Hint: mathematically, a number (N) is prime if its not divisible by any other number in between 2 and (√N +1)... sqrt of N plus 1\n",
    "\n",
    "import random\n",
    "\n",
    "def prime_list() -> list:\n",
    "    list_prime = []\n",
    "    while len(list_prime) < 5:\n",
    "        is_prime = True\n",
    "        num = random.randint(0,100)\n",
    "        if num > 1:\n",
    "            for i in range(2, num):\n",
    "                if num % i == 0:\n",
    "                    is_prime = False\n",
    "                    break\n",
    "            if is_prime == True:\n",
    "                list_prime.append(num)\n",
    "    print(list_prime)\n",
    "\n",
    "prime_list()    \n",
    "\n"
   ]
  }
 ],
 "metadata": {
  "kernelspec": {
   "display_name": "Python 3.7.13 64-bit",
   "language": "python",
   "name": "python3"
  },
  "language_info": {
   "codemirror_mode": {
    "name": "ipython",
    "version": 3
   },
   "file_extension": ".py",
   "mimetype": "text/x-python",
   "name": "python",
   "nbconvert_exporter": "python",
   "pygments_lexer": "ipython3",
   "version": "3.7.13"
  },
  "orig_nbformat": 4,
  "vscode": {
   "interpreter": {
    "hash": "e5030792b3492f6b12d94f1f48beca3d8e59ec05fd59d0aaaa48e684281ed297"
   }
  }
 },
 "nbformat": 4,
 "nbformat_minor": 2
}
