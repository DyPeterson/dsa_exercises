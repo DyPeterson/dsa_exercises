{
 "cells": [
  {
   "cell_type": "code",
   "execution_count": null,
   "metadata": {},
   "outputs": [],
   "source": [
    "fruit_list = [\n",
    "(\"apple\",4),\n",
    "(\"cherry\",1),\n",
    "(\"apple\",1),\n",
    "(\"apple\",1),\n",
    "(\"cherry\",4),\n",
    "(\"apple\",1),\n",
    "(\"cherry\",3),\n",
    "(\"apple\",4),\n",
    "(\"cherry\",4),\n",
    "(\"cherry\",2),\n",
    "(\"apple\",5),\n",
    "(\"apple\",5),\n",
    "(\"cherry\",4),\n",
    "(\"banana\",2),\n",
    "(\"apple\",1),\n",
    "(\"cherry\",3),\n",
    "(\"cherry\",5),\n",
    "(\"banana\",2),\n",
    "(\"cherry\",1),\n",
    "(\"cherry\",2),\n",
    "(\"apple\",4),\n",
    "(\"cherry\",2),\n",
    "(\"cherry\",2),\n",
    "(\"cherry\",1),\n",
    "(\"cherry\",4)]"
   ]
  }
 ],
 "metadata": {
  "language_info": {
   "name": "python"
  },
  "orig_nbformat": 4
 },
 "nbformat": 4,
 "nbformat_minor": 2
}
