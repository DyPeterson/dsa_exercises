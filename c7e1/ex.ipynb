{
 "cells": [
  {
   "cell_type": "code",
   "execution_count": 3,
   "metadata": {},
   "outputs": [
    {
     "name": "stderr",
     "output_type": "stream",
     "text": [
      "22/06/21 14:22:34 WARN Utils: Your hostname, DESKTOP-8ASBMTF resolves to a loopback address: 127.0.1.1; using 172.20.184.225 instead (on interface eth0)\n",
      "22/06/21 14:22:34 WARN Utils: Set SPARK_LOCAL_IP if you need to bind to another address\n",
      "WARNING: An illegal reflective access operation has occurred\n",
      "WARNING: Illegal reflective access by org.apache.spark.unsafe.Platform (file:/root/dsa_ex/c7e1/venv/lib/python3.7/site-packages/pyspark/jars/spark-unsafe_2.12-3.1.2.jar) to constructor java.nio.DirectByteBuffer(long,int)\n",
      "WARNING: Please consider reporting this to the maintainers of org.apache.spark.unsafe.Platform\n",
      "WARNING: Use --illegal-access=warn to enable warnings of further illegal reflective access operations\n",
      "WARNING: All illegal access operations will be denied in a future release\n",
      "22/06/21 14:22:36 WARN NativeCodeLoader: Unable to load native-hadoop library for your platform... using builtin-java classes where applicable\n",
      "Using Spark's default log4j profile: org/apache/spark/log4j-defaults.properties\n",
      "Setting default log level to \"WARN\".\n",
      "To adjust logging level use sc.setLogLevel(newLevel). For SparkR, use setLogLevel(newLevel).\n"
     ]
    }
   ],
   "source": [
    "import pyspark\n",
    "\n",
    "sc = pyspark.SparkContext('local[*]')\n",
    "\n",
    "fruit_list = [\n",
    "(\"apple\",4),\n",
    "(\"cherry\",1),\n",
    "(\"apple\",1),\n",
    "(\"apple\",1),\n",
    "(\"cherry\",4),\n",
    "(\"apple\",1),\n",
    "(\"cherry\",3),\n",
    "(\"apple\",4),\n",
    "(\"cherry\",4),\n",
    "(\"cherry\",2),\n",
    "(\"apple\",5),\n",
    "(\"apple\",5),\n",
    "(\"cherry\",4),\n",
    "(\"banana\",2),\n",
    "(\"apple\",1),\n",
    "(\"cherry\",3),\n",
    "(\"cherry\",5),\n",
    "(\"banana\",2),\n",
    "(\"cherry\",1),\n",
    "(\"cherry\",2),\n",
    "(\"apple\",4),\n",
    "(\"cherry\",2),\n",
    "(\"cherry\",2),\n",
    "(\"cherry\",1),\n",
    "(\"cherry\",4)]"
   ]
  },
  {
   "cell_type": "code",
   "execution_count": 11,
   "metadata": {},
   "outputs": [
    {
     "name": "stdout",
     "output_type": "stream",
     "text": [
      "[('apple', 4), ('apple', 1), ('apple', 1), ('apple', 1), ('apple', 4), ('apple', 5), ('apple', 5), ('apple', 1), ('apple', 4)]\n"
     ]
    }
   ],
   "source": [
    "fruit_rdd = sc.parallelize(fruit_list)\n",
    "# print(\"Fruit RDD: \", fruit_rdd.collect())\n",
    "# print(f\"It has {fruit_rdd.count()} elements\")\n",
    "\n",
    "# filter to only the apple rows\n",
    "apples_only = fruit_rdd.filter(lambda x: x[0] == \"apple\")\n",
    "print(apples_only.collect())\n",
    "\n",
    "#Group by fruit key, sum numbers:\n",
    "# print(fruit_rdd.reduceByKey(lambda a, b: a+b).collect())"
   ]
  },
  {
   "cell_type": "code",
   "execution_count": null,
   "metadata": {},
   "outputs": [],
   "source": [
    "# filter to only the apple rows\n",
    "apples_only = fruit_rdd.filter(lambda x: x[0] == \"apple\")\n",
    "print(apples_only.collect())"
   ]
  },
  {
   "cell_type": "code",
   "execution_count": null,
   "metadata": {},
   "outputs": [],
   "source": [
    "#Group by fruit key, sum numbers:\n",
    "print(fruit_rdd.reduceByKey(lambda a, b: a+b).collect())"
   ]
  }
 ],
 "metadata": {
  "language_info": {
   "name": "python"
  },
  "orig_nbformat": 4
 },
 "nbformat": 4,
 "nbformat_minor": 2
}
